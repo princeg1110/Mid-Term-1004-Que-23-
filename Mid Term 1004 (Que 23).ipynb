{
  "metadata": {
    "language_info": {
      "codemirror_mode": {
        "name": "python",
        "version": 3
      },
      "file_extension": ".py",
      "mimetype": "text/x-python",
      "name": "python",
      "nbconvert_exporter": "python",
      "pygments_lexer": "ipython3",
      "version": "3.8"
    },
    "kernelspec": {
      "name": "python",
      "display_name": "Python (Pyodide)",
      "language": "python"
    }
  },
  "nbformat_minor": 4,
  "nbformat": 4,
  "cells": [
    {
      "cell_type": "code",
      "source": "def f(indent, num):\n    if num > 0:\n        f(indent, num // 2)\n        print(\" \" * indent + \"*\" * num)\n        f(indent + num // 2, num // 2)\n\nf(0, 0)\nprint(\"=====================\")\nf(0, 1)\nprint(\"=====================\")\nf(0, 2)\nprint(\"=====================\")\nf(0, 4)",
      "metadata": {
        "trusted": true
      },
      "execution_count": 2,
      "outputs": [
        {
          "name": "stdout",
          "text": "=====================\n*\n=====================\n*\n**\n *\n=====================\n*\n**\n *\n****\n  *\n  **\n   *\n",
          "output_type": "stream"
        }
      ]
    },
    {
      "cell_type": "code",
      "source": "",
      "metadata": {},
      "execution_count": null,
      "outputs": []
    }
  ]
}